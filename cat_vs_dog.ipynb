{
 "cells": [
  {
   "cell_type": "code",
   "execution_count": 1,
   "id": "85f5f0c6",
   "metadata": {},
   "outputs": [],
   "source": [
    "import pandas as pd\n",
    "import cv2,os"
   ]
  },
  {
   "cell_type": "code",
   "execution_count": 2,
   "id": "1d1dea8c",
   "metadata": {},
   "outputs": [],
   "source": [
    "filenames=os.listdir('../../Downloads/cat_vs_dog/')"
   ]
  },
  {
   "cell_type": "code",
   "execution_count": 3,
   "id": "4177fba7",
   "metadata": {},
   "outputs": [
    {
     "name": "stdout",
     "output_type": "stream",
     "text": [
      "cat_img1.jfif\n",
      "cat_img2.jfif\n",
      "cat_img3.jpg\n",
      "cat_img4.jfif\n",
      "cat_img5.jfif\n",
      "cat_img6.webp\n",
      "cat_img7.webp\n",
      "cat_img8.jpg\n",
      "dog_img1.jfif\n",
      "dog_img2.jfif\n",
      "dog_img3.jfif\n",
      "dog_img4.jfif\n",
      "dog_img5.jfif\n",
      "dog_img6.jfif\n",
      "dog_img7.jpg\n",
      "dog_img8.jfif\n"
     ]
    }
   ],
   "source": [
    "for file in filenames:\n",
    "    print(file)"
   ]
  },
  {
   "cell_type": "code",
   "execution_count": 4,
   "id": "9e7900c7",
   "metadata": {},
   "outputs": [],
   "source": [
    "from tensorflow.keras.models import load_model\n",
    "model=load_model('../../Downloads/cat_dog_model.h5')"
   ]
  },
  {
   "cell_type": "code",
   "execution_count": 5,
   "id": "90a6a1e7",
   "metadata": {},
   "outputs": [],
   "source": [
    "def predict(path):\n",
    "    img=cv2.imread(path)\n",
    "    img=cv2.resize(img,(256,256))\n",
    "    img=img.reshape(1,256,256,3)/255\n",
    "    i=model.predict_on_batch(img).argmax()\n",
    "    return 'cat' if i==0 else 'dog'"
   ]
  },
  {
   "cell_type": "code",
   "execution_count": 8,
   "id": "9e914d5a",
   "metadata": {},
   "outputs": [
    {
     "name": "stdout",
     "output_type": "stream",
     "text": [
      "cat_img1.jfif \t cat\n",
      "cat_img2.jfif \t cat\n",
      "cat_img3.jpg \t cat\n",
      "cat_img4.jfif \t cat\n",
      "cat_img5.jfif \t cat\n",
      "cat_img6.webp \t cat\n",
      "cat_img7.webp \t cat\n",
      "cat_img8.jpg \t cat\n",
      "dog_img1.jfif \t dog\n",
      "dog_img2.jfif \t dog\n",
      "dog_img3.jfif \t dog\n",
      "dog_img4.jfif \t dog\n",
      "dog_img5.jfif \t dog\n",
      "dog_img6.jfif \t dog\n",
      "dog_img7.jpg \t dog\n",
      "dog_img8.jfif \t dog\n"
     ]
    }
   ],
   "source": [
    "for file in filenames:\n",
    "    print(file,'\\t',predict('../../Downloads/cat_vs_dog/'+file))"
   ]
  },
  {
   "cell_type": "code",
   "execution_count": null,
   "id": "b6e2cc20",
   "metadata": {},
   "outputs": [],
   "source": []
  }
 ],
 "metadata": {
  "kernelspec": {
   "display_name": "Python [conda env:tf_env_17]",
   "language": "python",
   "name": "conda-env-tf_env_17-py"
  },
  "language_info": {
   "codemirror_mode": {
    "name": "ipython",
    "version": 3
   },
   "file_extension": ".py",
   "mimetype": "text/x-python",
   "name": "python",
   "nbconvert_exporter": "python",
   "pygments_lexer": "ipython3",
   "version": "3.9.13"
  }
 },
 "nbformat": 4,
 "nbformat_minor": 5
}
